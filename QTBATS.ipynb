{
 "cells": [
  {
   "cell_type": "code",
   "execution_count": 7,
   "id": "a3d020cb",
   "metadata": {},
   "outputs": [],
   "source": [
    "import pennylane as qml\n",
    "from pennylane import numpy as np\n",
    "import pandas as pd\n",
    "import matplotlib.pyplot as plt\n",
    "import seaborn as sns"
   ]
  },
  {
   "cell_type": "code",
   "execution_count": 4,
   "id": "e15b2161",
   "metadata": {},
   "outputs": [],
   "source": [
    "df = pd.read_csv('MTA_Subway_Ridership_Data_Clean.csv')\n",
    "df[\"Date\"] = pd.to_datetime(df[\"Date\"], format=\"%m/%d/%Y\")\n",
    "df.set_index(\"Date\", inplace=True)\n",
    "df.rename(columns={\n",
    "    \"Subways: Total Estimated Ridership\" : \"Total Ridership\",\n",
    "    \"Subways: % of Comparable Pre-Pandemic Day\" : \"Pre-Pandemic Ridership\"\n",
    "}, inplace=True)"
   ]
  },
  {
   "cell_type": "markdown",
   "id": "b2c909fc",
   "metadata": {},
   "source": [
    "Apply **min-max** scaling to normalize the dataset"
   ]
  },
  {
   "cell_type": "code",
   "execution_count": 5,
   "id": "ee5c41f4",
   "metadata": {},
   "outputs": [],
   "source": [
    "df['Total Ridership Standardized'] = (df['Total Ridership'] - df['Total Ridership'].min()) / (df['Total Ridership'].max() - df['Total Ridership'].min())"
   ]
  },
  {
   "cell_type": "code",
   "execution_count": 6,
   "id": "8a34ebb3",
   "metadata": {},
   "outputs": [
    {
     "data": {
      "text/html": [
       "<div>\n",
       "<style scoped>\n",
       "    .dataframe tbody tr th:only-of-type {\n",
       "        vertical-align: middle;\n",
       "    }\n",
       "\n",
       "    .dataframe tbody tr th {\n",
       "        vertical-align: top;\n",
       "    }\n",
       "\n",
       "    .dataframe thead th {\n",
       "        text-align: right;\n",
       "    }\n",
       "</style>\n",
       "<table border=\"1\" class=\"dataframe\">\n",
       "  <thead>\n",
       "    <tr style=\"text-align: right;\">\n",
       "      <th></th>\n",
       "      <th>Total Ridership</th>\n",
       "      <th>Pre-Pandemic Ridership</th>\n",
       "      <th>Total Ridership Standardized</th>\n",
       "    </tr>\n",
       "    <tr>\n",
       "      <th>Date</th>\n",
       "      <th></th>\n",
       "      <th></th>\n",
       "      <th></th>\n",
       "    </tr>\n",
       "  </thead>\n",
       "  <tbody>\n",
       "    <tr>\n",
       "      <th>2020-03-01</th>\n",
       "      <td>2212965</td>\n",
       "      <td>0.97</td>\n",
       "      <td>0.380077</td>\n",
       "    </tr>\n",
       "    <tr>\n",
       "      <th>2020-03-02</th>\n",
       "      <td>5329915</td>\n",
       "      <td>0.96</td>\n",
       "      <td>0.968136</td>\n",
       "    </tr>\n",
       "    <tr>\n",
       "      <th>2020-03-03</th>\n",
       "      <td>5481103</td>\n",
       "      <td>0.98</td>\n",
       "      <td>0.996660</td>\n",
       "    </tr>\n",
       "    <tr>\n",
       "      <th>2020-03-04</th>\n",
       "      <td>5498809</td>\n",
       "      <td>0.99</td>\n",
       "      <td>1.000000</td>\n",
       "    </tr>\n",
       "    <tr>\n",
       "      <th>2020-03-05</th>\n",
       "      <td>5496453</td>\n",
       "      <td>0.99</td>\n",
       "      <td>0.999556</td>\n",
       "    </tr>\n",
       "  </tbody>\n",
       "</table>\n",
       "</div>"
      ],
      "text/plain": [
       "            Total Ridership  Pre-Pandemic Ridership  \\\n",
       "Date                                                  \n",
       "2020-03-01          2212965                    0.97   \n",
       "2020-03-02          5329915                    0.96   \n",
       "2020-03-03          5481103                    0.98   \n",
       "2020-03-04          5498809                    0.99   \n",
       "2020-03-05          5496453                    0.99   \n",
       "\n",
       "            Total Ridership Standardized  \n",
       "Date                                      \n",
       "2020-03-01                      0.380077  \n",
       "2020-03-02                      0.968136  \n",
       "2020-03-03                      0.996660  \n",
       "2020-03-04                      1.000000  \n",
       "2020-03-05                      0.999556  "
      ]
     },
     "execution_count": 6,
     "metadata": {},
     "output_type": "execute_result"
    }
   ],
   "source": [
    "df.head()"
   ]
  },
  {
   "cell_type": "code",
   "execution_count": 8,
   "id": "77e81ae6",
   "metadata": {},
   "outputs": [],
   "source": [
    "y = df['Total Ridership Standardized'].values.astype(float)"
   ]
  },
  {
   "cell_type": "code",
   "execution_count": 9,
   "id": "c8f2fbc0",
   "metadata": {},
   "outputs": [],
   "source": [
    "N = 1 << (len(y) - 1).bit_length()\n",
    "y = np.pad(y, (0, N - len(y)), mode='constant')\n",
    "norm = np.linalg.norm(y)\n",
    "y = y / norm\n",
    "n_qubits = int(np.ceil(np.log2(N)))"
   ]
  },
  {
   "cell_type": "code",
   "execution_count": 10,
   "id": "f0612e65",
   "metadata": {},
   "outputs": [
    {
     "name": "stdout",
     "output_type": "stream",
     "text": [
      "Number of qubits: 11\n"
     ]
    }
   ],
   "source": [
    "print(f\"Number of qubits: {n_qubits}\")"
   ]
  },
  {
   "cell_type": "code",
   "execution_count": 33,
   "id": "fb04e0ff",
   "metadata": {},
   "outputs": [],
   "source": [
    "dev = qml.device(\"default.qubit\", wires=n_qubits, shots=None)"
   ]
  },
  {
   "cell_type": "markdown",
   "id": "574aad1e",
   "metadata": {},
   "source": [
    "Implement the **Quantum Fourier Transform** circuit"
   ]
  },
  {
   "cell_type": "code",
   "execution_count": 34,
   "id": "e86b6b95",
   "metadata": {},
   "outputs": [],
   "source": [
    "def QFT(wires):\n",
    "    N = len(wires)\n",
    "    for i in range(N):\n",
    "        qml.Hadamard(wires=i)\n",
    "        for j in range(i+1, N):\n",
    "            qml.ControlledPhaseShift(np.pi/2**(j-i), wires=[j, i])\n",
    "    for i in range(N//2):\n",
    "        qml.SWAP(wires=[i, N-1-i])"
   ]
  },
  {
   "cell_type": "code",
   "execution_count": 47,
   "id": "daf9f431",
   "metadata": {},
   "outputs": [],
   "source": [
    "@qml.qnode(dev)\n",
    "def getAmplitude(K):\n",
    "    qml.StatePrep(y, wires=range(n_qubits), normalize=True)\n",
    "    QFT(range(n_qubits))\n",
    "    state = qml.state()\n",
    "    return state"
   ]
  },
  {
   "cell_type": "code",
   "execution_count": 49,
   "id": "efc3b3ea",
   "metadata": {},
   "outputs": [],
   "source": [
    "def getCoeff(K):\n",
    "    alpha = getAmplitude(K).tolist()[K]\n",
    "    X = alpha * norm * np.sqrt(N)\n",
    "    a = 2 / N * np.real(X)\n",
    "    b = 2 / N * np.imag(X)\n",
    "    return a, b"
   ]
  },
  {
   "cell_type": "code",
   "execution_count": 24,
   "id": "2064d9ea",
   "metadata": {},
   "outputs": [],
   "source": [
    "def periodToBin(period, N):\n",
    "    return round(N / period)"
   ]
  },
  {
   "cell_type": "code",
   "execution_count": 25,
   "id": "c56cf233",
   "metadata": {},
   "outputs": [
    {
     "name": "stdout",
     "output_type": "stream",
     "text": [
      "Weekly bin: 293, Yearly bin: 6\n"
     ]
    }
   ],
   "source": [
    "weekly_bin, yearly_bin = periodToBin(7, N), periodToBin(365, N)\n",
    "print(f\"Weekly bin: {weekly_bin}, Yearly bin: {yearly_bin}\")"
   ]
  },
  {
   "cell_type": "code",
   "execution_count": 50,
   "id": "690fc43e",
   "metadata": {},
   "outputs": [
    {
     "name": "stdout",
     "output_type": "stream",
     "text": [
      "Weekly coefficients: a=-0.04450487815864308, b=-0.08397542314989358\n",
      "Yearly coefficients: a=0.030020549930181058, b=-0.013046983456393383\n"
     ]
    }
   ],
   "source": [
    "a_weekly, b_weekly = getCoeff(weekly_bin)\n",
    "a_yearly, b_yearly = getCoeff(yearly_bin)\n",
    "print(f\"Weekly coefficients: a={a_weekly}, b={b_weekly}\")\n",
    "print(f\"Yearly coefficients: a={a_yearly}, b={b_yearly}\")"
   ]
  },
  {
   "cell_type": "code",
   "execution_count": null,
   "id": "b5ba6132",
   "metadata": {},
   "outputs": [],
   "source": []
  }
 ],
 "metadata": {
  "kernelspec": {
   "display_name": "csca",
   "language": "python",
   "name": "python3"
  },
  "language_info": {
   "codemirror_mode": {
    "name": "ipython",
    "version": 3
   },
   "file_extension": ".py",
   "mimetype": "text/x-python",
   "name": "python",
   "nbconvert_exporter": "python",
   "pygments_lexer": "ipython3",
   "version": "3.12.6"
  }
 },
 "nbformat": 4,
 "nbformat_minor": 5
}
